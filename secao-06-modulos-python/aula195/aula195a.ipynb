{
 "cells": [
  {
   "cell_type": "markdown",
   "id": "77f7c468-8082-4d32-bb0d-a1786107e02a",
   "metadata": {},
   "source": [
    "# Esse é meu título"
   ]
  },
  {
   "cell_type": "markdown",
   "id": "afcb0cdc-9d22-45ea-91ab-d8e3b02b6a7e",
   "metadata": {},
   "source": [
    "Essa linha cria uma variável `a`"
   ]
  },
  {
   "cell_type": "code",
   "execution_count": 2,
   "id": "57deb341-8182-4217-9f3e-0d1e15058aa2",
   "metadata": {},
   "outputs": [
    {
     "data": {
      "text/plain": [
       "2"
      ]
     },
     "execution_count": 2,
     "metadata": {},
     "output_type": "execute_result"
    }
   ],
   "source": [
    "a = 2\n",
    "a"
   ]
  },
  {
   "cell_type": "markdown",
   "id": "f47df3ad-cd2a-4bff-a0c9-348d4b72af4a",
   "metadata": {},
   "source": [
    "Essa linha tem o valor da variável `a` em dobro"
   ]
  },
  {
   "cell_type": "code",
   "execution_count": 3,
   "id": "aa783459-f38d-4652-8a90-562b4f5094ec",
   "metadata": {},
   "outputs": [
    {
     "data": {
      "text/plain": [
       "4"
      ]
     },
     "execution_count": 3,
     "metadata": {},
     "output_type": "execute_result"
    }
   ],
   "source": [
    "b = a * 2\n",
    "b"
   ]
  },
  {
   "cell_type": "markdown",
   "id": "66cb605f-8f82-4f6c-bc9e-be051fe3ac02",
   "metadata": {},
   "source": [
    "Essa linha mostra o valor de `a` + `b`"
   ]
  },
  {
   "cell_type": "code",
   "execution_count": 4,
   "id": "6b147284-9f25-4fdb-98a4-7648760e7948",
   "metadata": {},
   "outputs": [
    {
     "name": "stdout",
     "output_type": "stream",
     "text": [
      "6\n"
     ]
    }
   ],
   "source": [
    "print(a + b)"
   ]
  },
  {
   "cell_type": "code",
   "execution_count": null,
   "id": "bde06a74-745c-4508-86d8-d8ebc6a37e38",
   "metadata": {},
   "outputs": [],
   "source": []
  }
 ],
 "metadata": {
  "kernelspec": {
   "display_name": "Python 3 (ipykernel)",
   "language": "python",
   "name": "python3"
  },
  "language_info": {
   "codemirror_mode": {
    "name": "ipython",
    "version": 3
   },
   "file_extension": ".py",
   "mimetype": "text/x-python",
   "name": "python",
   "nbconvert_exporter": "python",
   "pygments_lexer": "ipython3",
   "version": "3.11.5"
  }
 },
 "nbformat": 4,
 "nbformat_minor": 5
}
